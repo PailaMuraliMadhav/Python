{
  "nbformat": 4,
  "nbformat_minor": 0,
  "metadata": {
    "colab": {
      "provenance": [],
      "authorship_tag": "ABX9TyM58cj26gC/aiKbCxUILg5p",
      "include_colab_link": true
    },
    "kernelspec": {
      "name": "python3",
      "display_name": "Python 3"
    },
    "language_info": {
      "name": "python"
    }
  },
  "cells": [
    {
      "cell_type": "markdown",
      "metadata": {
        "id": "view-in-github",
        "colab_type": "text"
      },
      "source": [
        "<a href=\"https://colab.research.google.com/github/PailaMuraliMadhav/Python/blob/main/Untitled3.ipynb\" target=\"_parent\"><img src=\"https://colab.research.google.com/assets/colab-badge.svg\" alt=\"Open In Colab\"/></a>"
      ]
    },
    {
      "cell_type": "code",
      "execution_count": null,
      "metadata": {
        "colab": {
          "base_uri": "https://localhost:8080/"
        },
        "id": "Tq-VUbepcSfX",
        "outputId": "66c71825-2cce-40d6-de57-27e63d1d1aea"
      },
      "outputs": [
        {
          "output_type": "stream",
          "name": "stdout",
          "text": [
            "Enter a Word to convert: Paila murali\n",
            "Acroynm :  PM\n",
            "P  -  Paila\n",
            "M  -  murali\n"
          ]
        }
      ],
      "source": [
        "a = input(\"Enter a Word to convert: \")\n",
        "Word = a.split()\n",
        "Acronym = \"\"\n",
        "for i in Word:\n",
        "    Acronym+=i[0].upper()\n",
        "print(\"Acroynm : \",Acronym)\n",
        "for i in range(len(Acronym)):\n",
        "    print(Acronym[i],\" - \",Word[i])"
      ]
    },
    {
      "cell_type": "code",
      "source": [
        "\n",
        "a=input()\n",
        "c=len(a)\n",
        "d=a[0]\n",
        "e=a[c-1]\n",
        "cube=pow(int(d),int(e))\n",
        "print(cube)\n",
        "\n",
        "print(cube %2==0)"
      ],
      "metadata": {
        "colab": {
          "base_uri": "https://localhost:8080/"
        },
        "id": "BnxKiFcRzJMT",
        "outputId": "0ed015c4-fdaa-417d-be4c-956485d9ac16"
      },
      "execution_count": null,
      "outputs": [
        {
          "output_type": "stream",
          "name": "stdout",
          "text": [
            "123456\n",
            "1\n",
            "False\n"
          ]
        }
      ]
    },
    {
      "cell_type": "code",
      "source": [
        "a=153%10\n",
        "print(a)"
      ],
      "metadata": {
        "colab": {
          "base_uri": "https://localhost:8080/"
        },
        "id": "iYWXNcFvxB47",
        "outputId": "7ba71874-6ab0-4465-f048-3836b70885bc"
      },
      "execution_count": null,
      "outputs": [
        {
          "output_type": "stream",
          "name": "stdout",
          "text": [
            "3\n"
          ]
        }
      ]
    },
    {
      "cell_type": "code",
      "source": [
        "x = \"mam\"\n",
        "w = \"\"\n",
        "\n",
        "for i in x:\n",
        "  w = i+w\n",
        "if (x == w):\n",
        "  print(\"Palindrome\")\n",
        "else:\n",
        "  print(\"not palindrome\")"
      ],
      "metadata": {
        "colab": {
          "base_uri": "https://localhost:8080/"
        },
        "id": "ool3I2mb3CSQ",
        "outputId": "e2899b1a-df75-47d3-c4be-af2c5d5bbb8b"
      },
      "execution_count": null,
      "outputs": [
        {
          "output_type": "stream",
          "name": "stdout",
          "text": [
            "Palindrome\n"
          ]
        }
      ]
    },
    {
      "cell_type": "code",
      "source": [
        "def patt(n):\n",
        "  for i in range(0,n):\n",
        "    for j in range(0,i+1):\n",
        "      print(\"*\",end=\"\")\n",
        "    print(\"\\r\")\n",
        "n= 5\n",
        "patt(n)"
      ],
      "metadata": {
        "colab": {
          "base_uri": "https://localhost:8080/"
        },
        "id": "tXFYTipt-Mkx",
        "outputId": "900e00b1-d3be-4555-945b-ee82e7b5bb07"
      },
      "execution_count": null,
      "outputs": [
        {
          "output_type": "stream",
          "name": "stdout",
          "text": [
            "*\r\n",
            "**\r\n",
            "***\r\n",
            "****\r\n",
            "*****\r\n"
          ]
        }
      ]
    },
    {
      "cell_type": "code",
      "source": [],
      "metadata": {
        "id": "ytFtm9WQUvH4"
      },
      "execution_count": null,
      "outputs": []
    }
  ]
}