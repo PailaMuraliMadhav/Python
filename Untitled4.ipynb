{
  "nbformat": 4,
  "nbformat_minor": 0,
  "metadata": {
    "colab": {
      "provenance": [],
      "authorship_tag": "ABX9TyMNYhmZO0GccCKIuJWG8K83",
      "include_colab_link": true
    },
    "kernelspec": {
      "name": "python3",
      "display_name": "Python 3"
    },
    "language_info": {
      "name": "python"
    }
  },
  "cells": [
    {
      "cell_type": "markdown",
      "metadata": {
        "id": "view-in-github",
        "colab_type": "text"
      },
      "source": [
        "<a href=\"https://colab.research.google.com/github/PailaMuraliMadhav/Python/blob/main/Untitled4.ipynb\" target=\"_parent\"><img src=\"https://colab.research.google.com/assets/colab-badge.svg\" alt=\"Open In Colab\"/></a>"
      ]
    },
    {
      "cell_type": "code",
      "execution_count": null,
      "metadata": {
        "id": "vsJJmXAq5Byv",
        "colab": {
          "base_uri": "https://localhost:8080/"
        },
        "outputId": "db955375-2216-4e8f-b14b-44cb25a0b25b"
      },
      "outputs": [
        {
          "output_type": "stream",
          "name": "stdout",
          "text": [
            "Hello World\n"
          ]
        }
      ],
      "source": [
        "a=(\"Hello World\")\n",
        "print(a)"
      ]
    },
    {
      "cell_type": "code",
      "source": [
        "print(\"\\U0001F602\")"
      ],
      "metadata": {
        "colab": {
          "base_uri": "https://localhost:8080/"
        },
        "id": "4bTQjRck3-Cr",
        "outputId": "52f04eb5-1817-4938-8dde-2e5996836cbd"
      },
      "execution_count": null,
      "outputs": [
        {
          "output_type": "stream",
          "name": "stdout",
          "text": [
            "😂\n"
          ]
        }
      ]
    }
  ]
}